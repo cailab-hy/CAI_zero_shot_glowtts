{
 "cells": [
  {
   "cell_type": "code",
   "execution_count": 1,
   "id": "381a7652",
   "metadata": {},
   "outputs": [],
   "source": [
    "import json\n",
    "import os\n",
    "import argparse\n",
    "import sys\n",
    "\n",
    "import torch\n",
    "from torch import nn, optim\n",
    "from torch.nn import functional as F\n",
    "from LSTM_cos import Convolution_LSTM_classification as model\n",
    "\n",
    "sys.path.append(os.path.dirname(os.path.abspath(os.path.dirname(\"\"))))\n",
    "import commons\n",
    "import utils\n",
    "from utils import load_filepaths_and_text, load_wav_to_torch"
   ]
  },
  {
   "cell_type": "code",
   "execution_count": 2,
   "id": "6e4a0cb9",
   "metadata": {},
   "outputs": [],
   "source": [
    "def audio_processing(audio_path, hps):\n",
    "    audio, sr = load_wav_to_torch(audio_path)\n",
    "    audio_norm = audio/ hps.data.max_wav_value\n",
    "    audio_norm = audio_norm.unsqueeze(0)\n",
    "    stft = commons.TacotronSTFT(hps.data.filter_length, hps.data.hop_length, \n",
    "                               hps.data.win_length, hps.data.n_mel_channels, \n",
    "                               hps.data.sampling_rate, hps.data.mel_fmin,\n",
    "                               hps.data.mel_fmax)\n",
    "    melspec = stft.mel_spectrogram(audio_norm)\n",
    "    melspec = torch.squeeze(torch.tensor(melspec),0)\n",
    "    melspec = torch.abs(melspec)\n",
    "    \n",
    "    frames = hps.data.slice_length\n",
    "    mel_padded = torch.FloatTensor(1, hps.data.n_mel_channels, frames)\n",
    "    mel_padded.zero_()\n",
    "    if melspec.size(1) < frames:\n",
    "        mel_padded[:, :, :melspec.size(1)] = melspec\n",
    "    else : \n",
    "        mel_padded[:, :, :frames] = melspec[:, :frames]\n",
    "    return mel_padded/torch.max(mel_padded)"
   ]
  },
  {
   "cell_type": "code",
   "execution_count": 3,
   "id": "36880ed7",
   "metadata": {},
   "outputs": [
    {
     "name": "stdout",
     "output_type": "stream",
     "text": [
      "/media/caijb/data_drive/autoencoder/log/kernel5__conv_LSTM/G_98.pth\n",
      "INFO:root:Loaded checkpoint '/media/caijb/data_drive/autoencoder/log/kernel5__conv_LSTM/G_98.pth' (iteration 98)\n"
     ]
    }
   ],
   "source": [
    "saved_model_path = \"/media/caijb/data_drive/autoencoder/log/kernel5__conv_LSTM\"\n",
    "config_path = os.path.join(saved_model_path, \"config.json\")\n",
    "with open(config_path,\"r\") as f:\n",
    "        data = f.read()\n",
    "config = json.loads(data)\n",
    "hps = utils.HParams(**config)\n",
    "\n",
    "\n",
    "checkpoint_path = utils.latest_checkpoint_path(saved_model_path)\n",
    "\n",
    "CAC = model(encoder_dim = hps.data.slice_length, hidden_dim1= hps.model.hidden_dim1,\n",
    "    hidden_dim2=hps.model.hidden_dim2, hiddem_dim3= hps.model.hidden_dim3,\n",
    "    l_hidden=hps.model.l_hidden, num_layers=hps.model.num_layers, embedding_size=hps.model.embedding_size,\n",
    "    n_speaker=hps.model.output_channel)\n",
    "\n",
    "CAC, _, _, _ = utils.load_checkpoint(checkpoint_path, CAC)"
   ]
  },
  {
   "cell_type": "code",
   "execution_count": 14,
   "id": "5b8e75e4",
   "metadata": {},
   "outputs": [
    {
     "name": "stdout",
     "output_type": "stream",
     "text": [
      "/media/caijb/data_drive/data/vctk/VCTK-Corpus/wav48/p225/p225_009.wav\n"
     ]
    },
    {
     "name": "stderr",
     "output_type": "stream",
     "text": [
      "/home/caijb/Desktop/zero_shot_glowtts/stft.py:68: FutureWarning: Pass size=1024 as keyword args. From version 0.10 passing these as positional arguments will result in an error\n",
      "  fft_window = pad_center(fft_window, filter_length)\n",
      "/home/caijb/Desktop/zero_shot_glowtts/commons.py:172: FutureWarning: Pass sr=22050, n_fft=1024, n_mels=80, fmin=0.0, fmax=8000.0 as keyword args. From version 0.10 passing these as positional arguments will result in an error\n",
      "  sampling_rate, filter_length, n_mel_channels, mel_fmin, mel_fmax)\n",
      "/home/caijb/anaconda3/envs/pytts/lib/python3.7/site-packages/ipykernel_launcher.py:10: UserWarning: To copy construct from a tensor, it is recommended to use sourceTensor.clone().detach() or sourceTensor.clone().detach().requires_grad_(True), rather than torch.tensor(sourceTensor).\n",
      "  # Remove the CWD from sys.path while we load stuff.\n"
     ]
    },
    {
     "name": "stdout",
     "output_type": "stream",
     "text": [
      "/media/caijb/data_drive/data/vctk/VCTK-Corpus/wav48/p225/p225_010.wav\n",
      "/media/caijb/data_drive/data/vctk/VCTK-Corpus/wav48/p225/p225_020.wav\n",
      "/media/caijb/data_drive/data/vctk/VCTK-Corpus/wav48/p225/p225_021.wav\n",
      "/media/caijb/data_drive/data/vctk/VCTK-Corpus/wav48/p225/p225_030.wav\n",
      "/media/caijb/data_drive/data/vctk/VCTK-Corpus/wav48/p225/p225_033.wav\n",
      "/media/caijb/data_drive/data/vctk/VCTK-Corpus/wav48/p225/p225_046.wav\n",
      "/media/caijb/data_drive/data/vctk/VCTK-Corpus/wav48/p225/p225_049.wav\n",
      "/media/caijb/data_drive/data/vctk/VCTK-Corpus/wav48/p225/p225_060.wav\n",
      "/media/caijb/data_drive/data/vctk/VCTK-Corpus/wav48/p225/p225_061.wav\n",
      "/media/caijb/data_drive/data/vctk/VCTK-Corpus/wav48/p225/p225_072.wav\n",
      "/media/caijb/data_drive/data/vctk/VCTK-Corpus/wav48/p225/p225_073.wav\n",
      "/media/caijb/data_drive/data/vctk/VCTK-Corpus/wav48/p225/p225_094.wav\n",
      "/media/caijb/data_drive/data/vctk/VCTK-Corpus/wav48/p225/p225_103.wav\n",
      "/media/caijb/data_drive/data/vctk/VCTK-Corpus/wav48/p225/p225_116.wav\n",
      "/media/caijb/data_drive/data/vctk/VCTK-Corpus/wav48/p225/p225_117.wav\n",
      "/media/caijb/data_drive/data/vctk/VCTK-Corpus/wav48/p225/p225_128.wav\n",
      "/media/caijb/data_drive/data/vctk/VCTK-Corpus/wav48/p225/p225_131.wav\n",
      "/media/caijb/data_drive/data/vctk/VCTK-Corpus/wav48/p225/p225_147.wav\n",
      "/media/caijb/data_drive/data/vctk/VCTK-Corpus/wav48/p225/p225_149.wav\n",
      "/media/caijb/data_drive/data/vctk/VCTK-Corpus/wav48/p226/p226_051.wav\n",
      "/media/caijb/data_drive/data/vctk/VCTK-Corpus/wav48/p226/p226_060.wav\n",
      "/media/caijb/data_drive/data/vctk/VCTK-Corpus/wav48/p226/p226_061.wav\n",
      "/media/caijb/data_drive/data/vctk/VCTK-Corpus/wav48/p226/p226_070.wav\n",
      "/media/caijb/data_drive/data/vctk/VCTK-Corpus/wav48/p226/p226_071.wav\n",
      "/media/caijb/data_drive/data/vctk/VCTK-Corpus/wav48/p226/p226_080.wav\n",
      "/media/caijb/data_drive/data/vctk/VCTK-Corpus/wav48/p226/p226_082.wav\n",
      "/media/caijb/data_drive/data/vctk/VCTK-Corpus/wav48/p226/p226_092.wav\n",
      "/media/caijb/data_drive/data/vctk/VCTK-Corpus/wav48/p226/p226_093.wav\n",
      "/media/caijb/data_drive/data/vctk/VCTK-Corpus/wav48/p226/p226_102.wav\n",
      "/media/caijb/data_drive/data/vctk/VCTK-Corpus/wav48/p226/p226_103.wav\n",
      "/media/caijb/data_drive/data/vctk/VCTK-Corpus/wav48/p226/p226_112.wav\n",
      "/media/caijb/data_drive/data/vctk/VCTK-Corpus/wav48/p226/p226_113.wav\n",
      "/media/caijb/data_drive/data/vctk/VCTK-Corpus/wav48/p226/p226_122.wav\n",
      "/media/caijb/data_drive/data/vctk/VCTK-Corpus/wav48/p226/p226_124.wav\n",
      "/media/caijb/data_drive/data/vctk/VCTK-Corpus/wav48/p226/p226_133.wav\n",
      "/media/caijb/data_drive/data/vctk/VCTK-Corpus/wav48/p226/p226_134.wav\n",
      "/media/caijb/data_drive/data/vctk/VCTK-Corpus/wav48/p226/p226_143.wav\n",
      "/media/caijb/data_drive/data/vctk/VCTK-Corpus/wav48/p226/p226_144.wav\n",
      "/media/caijb/data_drive/data/vctk/VCTK-Corpus/wav48/p226/p226_154.wav\n",
      "/media/caijb/data_drive/data/vctk/VCTK-Corpus/wav48/p227/p227_113.wav\n",
      "/media/caijb/data_drive/data/vctk/VCTK-Corpus/wav48/p227/p227_114.wav\n",
      "/media/caijb/data_drive/data/vctk/VCTK-Corpus/wav48/p227/p227_124.wav\n",
      "/media/caijb/data_drive/data/vctk/VCTK-Corpus/wav48/p227/p227_125.wav\n",
      "/media/caijb/data_drive/data/vctk/VCTK-Corpus/wav48/p227/p227_134.wav\n",
      "/media/caijb/data_drive/data/vctk/VCTK-Corpus/wav48/p227/p227_135.wav\n",
      "/media/caijb/data_drive/data/vctk/VCTK-Corpus/wav48/p227/p227_144.wav\n",
      "/media/caijb/data_drive/data/vctk/VCTK-Corpus/wav48/p227/p227_145.wav\n",
      "/media/caijb/data_drive/data/vctk/VCTK-Corpus/wav48/p227/p227_154.wav\n",
      "/media/caijb/data_drive/data/vctk/VCTK-Corpus/wav48/p227/p227_155.wav\n",
      "/media/caijb/data_drive/data/vctk/VCTK-Corpus/wav48/p227/p227_164.wav\n",
      "/media/caijb/data_drive/data/vctk/VCTK-Corpus/wav48/p227/p227_165.wav\n",
      "/media/caijb/data_drive/data/vctk/VCTK-Corpus/wav48/p227/p227_174.wav\n",
      "/media/caijb/data_drive/data/vctk/VCTK-Corpus/wav48/p227/p227_175.wav\n",
      "/media/caijb/data_drive/data/vctk/VCTK-Corpus/wav48/p227/p227_186.wav\n",
      "/media/caijb/data_drive/data/vctk/VCTK-Corpus/wav48/p227/p227_187.wav\n",
      "/media/caijb/data_drive/data/vctk/VCTK-Corpus/wav48/p227/p227_196.wav\n",
      "/media/caijb/data_drive/data/vctk/VCTK-Corpus/wav48/p227/p227_197.wav\n",
      "/media/caijb/data_drive/data/vctk/VCTK-Corpus/wav48/p227/p227_207.wav\n",
      "/media/caijb/data_drive/data/vctk/VCTK-Corpus/wav48/p227/p227_208.wav\n",
      "/media/caijb/data_drive/data/vctk/VCTK-Corpus/wav48/p228/p228_095.wav\n",
      "/media/caijb/data_drive/data/vctk/VCTK-Corpus/wav48/p228/p228_096.wav\n",
      "/media/caijb/data_drive/data/vctk/VCTK-Corpus/wav48/p228/p228_105.wav\n",
      "/media/caijb/data_drive/data/vctk/VCTK-Corpus/wav48/p228/p228_106.wav\n",
      "/media/caijb/data_drive/data/vctk/VCTK-Corpus/wav48/p228/p228_115.wav\n",
      "/media/caijb/data_drive/data/vctk/VCTK-Corpus/wav48/p228/p228_116.wav\n",
      "/media/caijb/data_drive/data/vctk/VCTK-Corpus/wav48/p228/p228_125.wav\n",
      "/media/caijb/data_drive/data/vctk/VCTK-Corpus/wav48/p228/p228_126.wav\n",
      "/media/caijb/data_drive/data/vctk/VCTK-Corpus/wav48/p228/p228_135.wav\n",
      "/media/caijb/data_drive/data/vctk/VCTK-Corpus/wav48/p228/p228_136.wav\n",
      "/media/caijb/data_drive/data/vctk/VCTK-Corpus/wav48/p228/p228_145.wav\n",
      "/media/caijb/data_drive/data/vctk/VCTK-Corpus/wav48/p228/p228_146.wav\n",
      "/media/caijb/data_drive/data/vctk/VCTK-Corpus/wav48/p228/p228_155.wav\n",
      "/media/caijb/data_drive/data/vctk/VCTK-Corpus/wav48/p228/p228_156.wav\n",
      "/media/caijb/data_drive/data/vctk/VCTK-Corpus/wav48/p228/p228_165.wav\n",
      "/media/caijb/data_drive/data/vctk/VCTK-Corpus/wav48/p228/p228_166.wav\n",
      "/media/caijb/data_drive/data/vctk/VCTK-Corpus/wav48/p228/p228_175.wav\n",
      "/media/caijb/data_drive/data/vctk/VCTK-Corpus/wav48/p228/p228_176.wav\n",
      "/media/caijb/data_drive/data/vctk/VCTK-Corpus/wav48/p228/p228_185.wav\n",
      "/media/caijb/data_drive/data/vctk/VCTK-Corpus/wav48/p228/p228_186.wav\n",
      "/media/caijb/data_drive/data/vctk/VCTK-Corpus/wav48/p229/p229_037.wav\n",
      "/media/caijb/data_drive/data/vctk/VCTK-Corpus/wav48/p229/p229_038.wav\n",
      "/media/caijb/data_drive/data/vctk/VCTK-Corpus/wav48/p229/p229_047.wav\n",
      "/media/caijb/data_drive/data/vctk/VCTK-Corpus/wav48/p229/p229_048.wav\n",
      "/media/caijb/data_drive/data/vctk/VCTK-Corpus/wav48/p229/p229_058.wav\n",
      "/media/caijb/data_drive/data/vctk/VCTK-Corpus/wav48/p229/p229_059.wav\n",
      "/media/caijb/data_drive/data/vctk/VCTK-Corpus/wav48/p229/p229_068.wav\n",
      "/media/caijb/data_drive/data/vctk/VCTK-Corpus/wav48/p229/p229_069.wav\n",
      "/media/caijb/data_drive/data/vctk/VCTK-Corpus/wav48/p229/p229_078.wav\n",
      "/media/caijb/data_drive/data/vctk/VCTK-Corpus/wav48/p229/p229_079.wav\n",
      "/media/caijb/data_drive/data/vctk/VCTK-Corpus/wav48/p229/p229_088.wav\n",
      "/media/caijb/data_drive/data/vctk/VCTK-Corpus/wav48/p229/p229_089.wav\n",
      "/media/caijb/data_drive/data/vctk/VCTK-Corpus/wav48/p229/p229_098.wav\n",
      "/media/caijb/data_drive/data/vctk/VCTK-Corpus/wav48/p229/p229_099.wav\n",
      "/media/caijb/data_drive/data/vctk/VCTK-Corpus/wav48/p229/p229_109.wav\n",
      "/media/caijb/data_drive/data/vctk/VCTK-Corpus/wav48/p229/p229_110.wav\n",
      "/media/caijb/data_drive/data/vctk/VCTK-Corpus/wav48/p229/p229_119.wav\n",
      "/media/caijb/data_drive/data/vctk/VCTK-Corpus/wav48/p229/p229_120.wav\n",
      "/media/caijb/data_drive/data/vctk/VCTK-Corpus/wav48/p229/p229_129.wav\n"
     ]
    }
   ],
   "source": [
    "text_path = \"/media/caijb/data_drive/data/Zeroshot/vctk_tester.txt\"\n",
    "with open(text_path, \"r\") as f:\n",
    "    data = f.read()\n",
    "    data = data.split(\"\\n\")\n",
    "\n",
    "    \n",
    "result = []\n",
    "for i in data:\n",
    "    i = i.split(\"|\")\n",
    "    audio_path, sid = i[0], i[1]\n",
    "    print(audio_path)\n",
    "    mel = audio_processing(audio_path, hps)\n",
    "    vector = CAC.get_vector(mel)\n",
    "    vector = vector.squeeze()\n",
    "    temp_vector = vector.tolist()\n",
    "    temp_vector.append(int(sid))\n",
    "    result.append(temp_vector)\n"
   ]
  },
  {
   "cell_type": "code",
   "execution_count": 15,
   "id": "2e4d0b2b",
   "metadata": {},
   "outputs": [],
   "source": [
    "import pandas as pd\n",
    "\n",
    "df = pd.DataFrame(result)\n",
    "#df.to_csv(\"./result_seen.csv\")"
   ]
  },
  {
   "cell_type": "code",
   "execution_count": null,
   "id": "c769a9bf",
   "metadata": {},
   "outputs": [],
   "source": []
  },
  {
   "cell_type": "code",
   "execution_count": 16,
   "id": "4e31fc6f",
   "metadata": {},
   "outputs": [
    {
     "data": {
      "text/html": [
       "<div>\n",
       "<style scoped>\n",
       "    .dataframe tbody tr th:only-of-type {\n",
       "        vertical-align: middle;\n",
       "    }\n",
       "\n",
       "    .dataframe tbody tr th {\n",
       "        vertical-align: top;\n",
       "    }\n",
       "\n",
       "    .dataframe thead th {\n",
       "        text-align: right;\n",
       "    }\n",
       "</style>\n",
       "<table border=\"1\" class=\"dataframe\">\n",
       "  <thead>\n",
       "    <tr style=\"text-align: right;\">\n",
       "      <th></th>\n",
       "      <th>0</th>\n",
       "      <th>1</th>\n",
       "      <th>2</th>\n",
       "      <th>3</th>\n",
       "      <th>4</th>\n",
       "      <th>5</th>\n",
       "      <th>6</th>\n",
       "      <th>7</th>\n",
       "      <th>8</th>\n",
       "      <th>9</th>\n",
       "      <th>...</th>\n",
       "      <th>247</th>\n",
       "      <th>248</th>\n",
       "      <th>249</th>\n",
       "      <th>250</th>\n",
       "      <th>251</th>\n",
       "      <th>252</th>\n",
       "      <th>253</th>\n",
       "      <th>254</th>\n",
       "      <th>255</th>\n",
       "      <th>256</th>\n",
       "    </tr>\n",
       "  </thead>\n",
       "  <tbody>\n",
       "    <tr>\n",
       "      <th>0</th>\n",
       "      <td>-1.370453</td>\n",
       "      <td>2.199775</td>\n",
       "      <td>-8.997656</td>\n",
       "      <td>-0.073975</td>\n",
       "      <td>-4.766736</td>\n",
       "      <td>2.248076</td>\n",
       "      <td>-3.022138</td>\n",
       "      <td>4.395902</td>\n",
       "      <td>2.390044</td>\n",
       "      <td>1.614922</td>\n",
       "      <td>...</td>\n",
       "      <td>-7.101176</td>\n",
       "      <td>2.858542</td>\n",
       "      <td>3.742369</td>\n",
       "      <td>2.853818</td>\n",
       "      <td>-7.098655</td>\n",
       "      <td>1.195690</td>\n",
       "      <td>5.250665</td>\n",
       "      <td>-4.546562</td>\n",
       "      <td>1.340702</td>\n",
       "      <td>2</td>\n",
       "    </tr>\n",
       "    <tr>\n",
       "      <th>1</th>\n",
       "      <td>-3.181655</td>\n",
       "      <td>-0.345131</td>\n",
       "      <td>-9.429102</td>\n",
       "      <td>-1.063143</td>\n",
       "      <td>-4.663465</td>\n",
       "      <td>1.579740</td>\n",
       "      <td>-3.667687</td>\n",
       "      <td>4.528459</td>\n",
       "      <td>2.819433</td>\n",
       "      <td>3.002473</td>\n",
       "      <td>...</td>\n",
       "      <td>-8.161162</td>\n",
       "      <td>0.756890</td>\n",
       "      <td>5.342587</td>\n",
       "      <td>4.380872</td>\n",
       "      <td>-5.702211</td>\n",
       "      <td>1.689575</td>\n",
       "      <td>5.557967</td>\n",
       "      <td>-6.603014</td>\n",
       "      <td>2.491353</td>\n",
       "      <td>2</td>\n",
       "    </tr>\n",
       "    <tr>\n",
       "      <th>2</th>\n",
       "      <td>-0.782829</td>\n",
       "      <td>0.684643</td>\n",
       "      <td>-3.281967</td>\n",
       "      <td>0.002293</td>\n",
       "      <td>-1.760239</td>\n",
       "      <td>3.216515</td>\n",
       "      <td>-2.597921</td>\n",
       "      <td>5.081744</td>\n",
       "      <td>5.477100</td>\n",
       "      <td>1.377167</td>\n",
       "      <td>...</td>\n",
       "      <td>-7.595195</td>\n",
       "      <td>0.705117</td>\n",
       "      <td>5.787439</td>\n",
       "      <td>6.961752</td>\n",
       "      <td>-4.567028</td>\n",
       "      <td>3.515712</td>\n",
       "      <td>5.320789</td>\n",
       "      <td>-5.860244</td>\n",
       "      <td>4.019504</td>\n",
       "      <td>2</td>\n",
       "    </tr>\n",
       "    <tr>\n",
       "      <th>3</th>\n",
       "      <td>-1.533517</td>\n",
       "      <td>-1.704086</td>\n",
       "      <td>-2.093625</td>\n",
       "      <td>1.047465</td>\n",
       "      <td>-0.534518</td>\n",
       "      <td>6.101948</td>\n",
       "      <td>-0.013371</td>\n",
       "      <td>-4.185020</td>\n",
       "      <td>1.413154</td>\n",
       "      <td>-1.359124</td>\n",
       "      <td>...</td>\n",
       "      <td>-5.515420</td>\n",
       "      <td>-0.616152</td>\n",
       "      <td>3.093569</td>\n",
       "      <td>-2.931496</td>\n",
       "      <td>-8.507196</td>\n",
       "      <td>-0.260477</td>\n",
       "      <td>2.924986</td>\n",
       "      <td>-1.824945</td>\n",
       "      <td>-1.778669</td>\n",
       "      <td>2</td>\n",
       "    </tr>\n",
       "    <tr>\n",
       "      <th>4</th>\n",
       "      <td>3.823349</td>\n",
       "      <td>4.860921</td>\n",
       "      <td>-3.928058</td>\n",
       "      <td>5.299321</td>\n",
       "      <td>-5.373803</td>\n",
       "      <td>-0.638444</td>\n",
       "      <td>-1.823699</td>\n",
       "      <td>-3.234394</td>\n",
       "      <td>-1.859734</td>\n",
       "      <td>-1.928652</td>\n",
       "      <td>...</td>\n",
       "      <td>2.856087</td>\n",
       "      <td>5.686183</td>\n",
       "      <td>-2.111990</td>\n",
       "      <td>1.222983</td>\n",
       "      <td>-0.404582</td>\n",
       "      <td>0.556906</td>\n",
       "      <td>-4.658196</td>\n",
       "      <td>-2.357965</td>\n",
       "      <td>0.249665</td>\n",
       "      <td>2</td>\n",
       "    </tr>\n",
       "  </tbody>\n",
       "</table>\n",
       "<p>5 rows × 257 columns</p>\n",
       "</div>"
      ],
      "text/plain": [
       "        0         1         2         3         4         5         6    \\\n",
       "0 -1.370453  2.199775 -8.997656 -0.073975 -4.766736  2.248076 -3.022138   \n",
       "1 -3.181655 -0.345131 -9.429102 -1.063143 -4.663465  1.579740 -3.667687   \n",
       "2 -0.782829  0.684643 -3.281967  0.002293 -1.760239  3.216515 -2.597921   \n",
       "3 -1.533517 -1.704086 -2.093625  1.047465 -0.534518  6.101948 -0.013371   \n",
       "4  3.823349  4.860921 -3.928058  5.299321 -5.373803 -0.638444 -1.823699   \n",
       "\n",
       "        7         8         9    ...       247       248       249       250  \\\n",
       "0  4.395902  2.390044  1.614922  ... -7.101176  2.858542  3.742369  2.853818   \n",
       "1  4.528459  2.819433  3.002473  ... -8.161162  0.756890  5.342587  4.380872   \n",
       "2  5.081744  5.477100  1.377167  ... -7.595195  0.705117  5.787439  6.961752   \n",
       "3 -4.185020  1.413154 -1.359124  ... -5.515420 -0.616152  3.093569 -2.931496   \n",
       "4 -3.234394 -1.859734 -1.928652  ...  2.856087  5.686183 -2.111990  1.222983   \n",
       "\n",
       "        251       252       253       254       255  256  \n",
       "0 -7.098655  1.195690  5.250665 -4.546562  1.340702    2  \n",
       "1 -5.702211  1.689575  5.557967 -6.603014  2.491353    2  \n",
       "2 -4.567028  3.515712  5.320789 -5.860244  4.019504    2  \n",
       "3 -8.507196 -0.260477  2.924986 -1.824945 -1.778669    2  \n",
       "4 -0.404582  0.556906 -4.658196 -2.357965  0.249665    2  \n",
       "\n",
       "[5 rows x 257 columns]"
      ]
     },
     "execution_count": 16,
     "metadata": {},
     "output_type": "execute_result"
    }
   ],
   "source": [
    "import matplotlib.pyplot as plt\n",
    "df.head()"
   ]
  },
  {
   "cell_type": "code",
   "execution_count": 17,
   "id": "d8a7e8ee",
   "metadata": {},
   "outputs": [],
   "source": [
    "y = df[[256]]\n",
    "\"\"\"\n",
    "y =y.replace(125,0)\n",
    "y =y.replace(124,1)\n",
    "y =y.replace(113,2)\n",
    "y =y.replace(115,3)\n",
    "y =y.replace(114,4)\n",
    "\n",
    "\"\"\"\n",
    "y =y.replace(2,0)\n",
    "y =y.replace(3,1)\n",
    "y =y.replace(4,2)\n",
    "y =y.replace(5,3)\n",
    "y =y.replace(6,4)\n",
    "\n",
    "x = df.drop([256],axis =1)"
   ]
  },
  {
   "cell_type": "code",
   "execution_count": 18,
   "id": "d10d781e",
   "metadata": {},
   "outputs": [],
   "source": [
    "from sklearn.preprocessing import StandardScaler\n",
    "\n",
    "scaler = StandardScaler()\n",
    "x_scaled = scaler.fit_transform(x)"
   ]
  },
  {
   "cell_type": "code",
   "execution_count": 19,
   "id": "792043d0",
   "metadata": {},
   "outputs": [],
   "source": [
    "from sklearn.decomposition import PCA\n",
    "pca =PCA(n_components = 2)\n",
    "pca.fit(x_scaled)\n",
    "x_pca = pca.transform(x_scaled)\n",
    "x_pca= pd.DataFrame(x_pca)\n",
    "x_pca['target']=y"
   ]
  },
  {
   "cell_type": "code",
   "execution_count": 20,
   "id": "77340b35",
   "metadata": {
    "scrolled": false
   },
   "outputs": [],
   "source": [
    "markers = ['o', '^', 's', 'x','p']\n",
    "name = ['125', '124','113', '115', '114']\n",
    "sid_list = [125, 124, 113, 115, 114]"
   ]
  },
  {
   "cell_type": "code",
   "execution_count": 21,
   "id": "e7b351ec",
   "metadata": {
    "scrolled": true
   },
   "outputs": [
    {
     "data": {
      "image/png": "[encoded data removed]",
      "text/plain": [
       "<Figure size 360x360 with 1 Axes>"
      ]
     },
     "metadata": {
      "needs_background": "light"
     },
     "output_type": "display_data"
    }
   ],
   "source": [
    "fig = plt.figure(figsize=(5,5))\n",
    "#ax = fig.gca(projection='3d')\n",
    "for i, marker in enumerate(markers) :\n",
    "    x_axis = x_pca[x_pca['target']==i][0]\n",
    "    y_axis = x_pca[x_pca['target']==i][1]\n",
    "    \n",
    "    plt.scatter(x_axis,y_axis, marker=marker, label = name[i])\n",
    "\n",
    "plt.legend(loc='upper left')\n",
    "plt.xlabel('component 1')\n",
    "plt.ylabel('component 2')\n",
    "plt.show()"
   ]
  },
  {
   "cell_type": "code",
   "execution_count": 22,
   "id": "9085b257",
   "metadata": {},
   "outputs": [
    {
     "name": "stderr",
     "output_type": "stream",
     "text": [
      "/home/caijb/anaconda3/envs/pytts/lib/python3.7/site-packages/sklearn/utils/validation.py:993: DataConversionWarning: A column-vector y was passed when a 1d array was expected. Please change the shape of y to (n_samples, ), for example using ravel().\n",
      "  y = column_or_1d(y, warn=True)\n"
     ]
    }
   ],
   "source": [
    "from sklearn.discriminant_analysis import LinearDiscriminantAnalysis\n",
    "lda= LinearDiscriminantAnalysis(n_components =2)\n",
    "#scaler = StandardScaler()\n",
    "#x_scaled = scaler.fit_transform(x)\n",
    "lda.fit(x_scaled,y)\n",
    "x_lda = lda.transform(x_scaled)\n",
    "x_lda = pd.DataFrame(x_lda)\n",
    "x_lda['target'] = y"
   ]
  },
  {
   "cell_type": "code",
   "execution_count": null,
   "id": "acf36763",
   "metadata": {},
   "outputs": [],
   "source": []
  },
  {
   "cell_type": "code",
   "execution_count": 23,
   "id": "91b28fb7",
   "metadata": {},
   "outputs": [
    {
     "data": {
      "image/png": "[encoded data removed]",
      "text/plain": [
       "<Figure size 720x720 with 1 Axes>"
      ]
     },
     "metadata": {
      "needs_background": "light"
     },
     "output_type": "display_data"
    }
   ],
   "source": [
    "fig = plt.figure(figsize=(10,10))\n",
    "#ax = fig.gca(projection='3d')\n",
    "for i, marker in enumerate(markers) :\n",
    "    x_axis = x_lda[x_lda['target']==i][0]\n",
    "    y_axis = x_lda[x_lda['target']==i][1]\n",
    "    plt.scatter(x_axis,y_axis, marker=marker, label = name[i])\n",
    "\n",
    "plt.legend(loc='lower left')\n",
    "plt.xlabel('component 1')\n",
    "plt.ylabel('component 2')\n",
    "plt.show()"
   ]
  },
  {
   "cell_type": "code",
   "execution_count": 14,
   "id": "4554fdc0",
   "metadata": {},
   "outputs": [
    {
     "ename": "NameError",
     "evalue": "name 'df_new' is not defined",
     "output_type": "error",
     "traceback": [
      "\u001b[0;31m---------------------------------------------------------------------------\u001b[0m",
      "\u001b[0;31mNameError\u001b[0m                                 Traceback (most recent call last)",
      "\u001b[0;32m/tmp/ipykernel_2932605/3688003337.py\u001b[0m in \u001b[0;36m<module>\u001b[0;34m\u001b[0m\n\u001b[1;32m      1\u001b[0m \u001b[0;31m#df_new = pd.read_csv(\"./result_unseen.csv\")\u001b[0m\u001b[0;34m\u001b[0m\u001b[0;34m\u001b[0m\u001b[0;34m\u001b[0m\u001b[0m\n\u001b[0;32m----> 2\u001b[0;31m \u001b[0mdf_key\u001b[0m \u001b[0;34m=\u001b[0m\u001b[0mdf_new\u001b[0m\u001b[0;34m.\u001b[0m\u001b[0mkeys\u001b[0m\u001b[0;34m(\u001b[0m\u001b[0;34m)\u001b[0m\u001b[0;34m\u001b[0m\u001b[0;34m\u001b[0m\u001b[0m\n\u001b[0m\u001b[1;32m      3\u001b[0m \u001b[0mx_new\u001b[0m \u001b[0;34m=\u001b[0m\u001b[0mdf_new\u001b[0m\u001b[0;34m.\u001b[0m\u001b[0mloc\u001b[0m\u001b[0;34m[\u001b[0m\u001b[0;34m:\u001b[0m\u001b[0;34m,\u001b[0m\u001b[0;34m'0'\u001b[0m\u001b[0;34m:\u001b[0m\u001b[0;34m'255'\u001b[0m\u001b[0;34m]\u001b[0m\u001b[0;34m\u001b[0m\u001b[0;34m\u001b[0m\u001b[0m\n\u001b[1;32m      4\u001b[0m \u001b[0my_new\u001b[0m \u001b[0;34m=\u001b[0m\u001b[0mdf_new\u001b[0m\u001b[0;34m[\u001b[0m\u001b[0;34m'256'\u001b[0m\u001b[0;34m]\u001b[0m\u001b[0;34m\u001b[0m\u001b[0;34m\u001b[0m\u001b[0m\n\u001b[1;32m      5\u001b[0m \u001b[0mx_new\u001b[0m\u001b[0;34m.\u001b[0m\u001b[0mhead\u001b[0m\u001b[0;34m(\u001b[0m\u001b[0;34m)\u001b[0m\u001b[0;34m\u001b[0m\u001b[0;34m\u001b[0m\u001b[0m\n",
      "\u001b[0;31mNameError\u001b[0m: name 'df_new' is not defined"
     ]
    }
   ],
   "source": [
    "#df_new = pd.read_csv(\"./result_unseen.csv\")\n",
    "df_key =df_new.keys()\n",
    "x_new =df_new.loc[:,'0':'255']\n",
    "y_new =df_new['256']\n",
    "x_new.head()"
   ]
  },
  {
   "cell_type": "code",
   "execution_count": null,
   "id": "5ea71a45",
   "metadata": {},
   "outputs": [],
   "source": [
    "x_new_scaled = scaler.fit_transform(x_new)\n",
    "x_new_lda = pca.transform(x_new_scaled)\n",
    "x_new_lda = pd.DataFrame(x_new_lda)\n",
    "\n",
    "y_new=y_new.replace(125,0)\n",
    "y_new =y_new.replace(124,1)\n",
    "y_new =y_new.replace(113,2)\n",
    "y_new =y_new.replace(115,3)\n",
    "y_new =y_new.replace(114,4)\n",
    "\n",
    "x_new_lda['target'] = y_new\n",
    "x_new_lda.head()"
   ]
  },
  {
   "cell_type": "code",
   "execution_count": null,
   "id": "adb8ef0f",
   "metadata": {},
   "outputs": [],
   "source": [
    "fig = plt.figure(figsize=(10,10))\n",
    "#ax = fig.gca(projection='3d')\n",
    "for i, marker in enumerate(markers) :\n",
    "    x_axis = x_new_lda[x_new_lda['target']==i][0]\n",
    "    y_axis = x_new_lda[x_new_lda['target']==i][1]\n",
    "    plt.scatter(x_axis,y_axis, marker=marker, label = name[i])\n",
    "\n",
    "plt.legend(loc='upper left')\n",
    "plt.xlabel('component 1')\n",
    "plt.ylabel('component 2')\n",
    "plt.show()"
   ]
  },
  {
   "cell_type": "code",
   "execution_count": null,
   "id": "808a6f9b",
   "metadata": {},
   "outputs": [],
   "source": []
  }
 ],
 "metadata": {
  "kernelspec": {
   "display_name": "Python 3 (ipykernel)",
   "language": "python",
   "name": "python3"
  },
  "language_info": {
   "codemirror_mode": {
    "name": "ipython",
    "version": 3
   },
   "file_extension": ".py",
   "mimetype": "text/x-python",
   "name": "python",
   "nbconvert_exporter": "python",
   "pygments_lexer": "ipython3",
   "version": "3.7.13"
  }
 },
 "nbformat": 4,
 "nbformat_minor": 5
}
